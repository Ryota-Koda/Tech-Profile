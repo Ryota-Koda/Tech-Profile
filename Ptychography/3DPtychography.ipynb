{
 "cells": [
  {
   "cell_type": "code",
   "execution_count": 1,
   "metadata": {},
   "outputs": [],
   "source": [
    "import h5py\n",
    "import matplotlib.pyplot as plt\n",
    "import numpy as np\n",
    "import numpy.matlib\n",
    "import cupy as cp\n",
    "import math\n",
    "from cupy.cuda.nvtx import RangePush, RangePop\n",
    "from tqdm import tqdm\n",
    "import time"
   ]
  },
  {
   "cell_type": "code",
   "execution_count": 2,
   "metadata": {},
   "outputs": [],
   "source": [
    "file = h5py.File(\"data.mat\")\n",
    "\n",
    "#load data\n",
    "xscanSize, yscanSize = int(file[\"pyStrE\"][\"xscanSize\"][0,0]), int(file[\"pyStrE\"][\"yscanSize\"][0,0])\n",
    "resolutionX, resolutionY = file[\"pyStrE\"][\"resolutionX\"][0,0], file[\"pyStrE\"][\"resolutionY\"][0,0]\n",
    "Xsize, Ysize = file[\"pyStrE\"][\"arraySizeX\"][:], file[\"pyStrE\"][\"arraySizeY\"]\n",
    "objArraySizeX, objArraySizeY = int(file[\"pyStrE\"][\"objArraySizeX\"][0,0]), int(file[\"pyStrE\"][\"objArraySizeY\"][0,0])\n",
    "prbArraySizeX, prbArraySizeY = int(file[\"pyStrE\"][\"prbArraySizeX\"][0,0]), int(file[\"pyStrE\"][\"prbArraySizeY\"][0,0])\n",
    "xList, yList = file[\"pyStrE\"][\"xList\"][:], file[\"pyStrE\"][\"yList\"][:] \n",
    "alpha, beta = file[\"ePIEstr\"][\"alpha\"][0,0], file[\"ePIEstr\"][\"beta\"][0,0]\n",
    "\n",
    "\n",
    "object_rot = cp.asarray(file[\"object_rot\"][:].view(np.complex128)) \n",
    "probe_ini = cp.asarray(file[\"probe\"][:].view(np.complex128)) \n",
    "\n",
    "angle = file[\"angle\"]"
   ]
  },
  {
   "cell_type": "code",
   "execution_count": 3,
   "metadata": {},
   "outputs": [
    {
     "name": "stdout",
     "output_type": "stream",
     "text": [
      "(181, 11, 11, 514, 514)\n"
     ]
    }
   ],
   "source": [
    "CDIstack = cp.asarray(file[\"CDIstack\"][:,:,:,:,:]) #take a lot of time\n",
    "print(CDIstack.shape)"
   ]
  },
  {
   "cell_type": "code",
   "execution_count": 3,
   "metadata": {},
   "outputs": [
    {
     "name": "stdout",
     "output_type": "stream",
     "text": [
      "181\n"
     ]
    }
   ],
   "source": [
    "#画像181枚分の再構成\n",
    "object = object_rot.copy()\n",
    "probe = probe_ini.copy()\n",
    "num_pictures = xList.shape[0]\n",
    "print(num_pictures)"
   ]
  },
  {
   "cell_type": "code",
   "execution_count": 14,
   "metadata": {},
   "outputs": [],
   "source": [
    "#画像再構成の関数を定義\n",
    "@cp.fuse\n",
    "def inv_space_constraint(DELTAwave, CDIstack): #逆空間拘束\n",
    "    DELTAwave[:] = cp.where(CDIstack >= 0,\n",
    "                            cp.sqrt(CDIstack) * cp.where(cp.abs(DELTAwave) == 0,\n",
    "                                                         DELTAwave,\n",
    "                                                         DELTAwave / cp.sqrt(cp.abs(DELTAwave))),\n",
    "                            DELTAwave)\n",
    "\n",
    "#@cp.fuse\n",
    "def maxabs2(x): #xの複素数の絶対値の最大値をかえす　\n",
    "    return cp.max(x * cp.conj(x))\n",
    "    \n",
    "@cp.fuse\n",
    "def update(A, coef, B, msa, DELTAwave): #更新式のアップデート\n",
    "    A += (coef / msa) * cp.conj(B) * DELTAwave\n",
    "    \n",
    "@cp.fuse \n",
    "def rfactor_nom(CDIstack, DELTAwave_org): #rfactor正規化\n",
    "    return cp.square(cp.where(CDIstack >= 0, cp.square(CDIstack) - cp.square(cp.abs(DELTAwave_org)), 0))\n",
    "\n",
    "@cp.fuse\n",
    "def rfactor_denom(CDIstack): #rfactor非正規化\n",
    "    return cp.where(CDIstack >= 0, cp.square(cp.square(CDIstack)), 0)"
   ]
  },
  {
   "cell_type": "code",
   "execution_count": 15,
   "metadata": {},
   "outputs": [
    {
     "name": "stdout",
     "output_type": "stream",
     "text": [
      "(514, 514)\n",
      "picture: 1/181\n"
     ]
    },
    {
     "name": "stderr",
     "output_type": "stream",
     "text": [
      "100%|██████████| 200/200 [00:08<00:00, 24.82it/s]\n"
     ]
    },
    {
     "name": "stdout",
     "output_type": "stream",
     "text": [
      "Elapsed: 8.27472710609436\n",
      "(514, 514)\n",
      "picture: 2/181\n"
     ]
    },
    {
     "name": "stderr",
     "output_type": "stream",
     "text": [
      "100%|██████████| 200/200 [00:08<00:00, 24.71it/s]\n"
     ]
    },
    {
     "name": "stdout",
     "output_type": "stream",
     "text": [
      "Elapsed: 8.21739912033081\n",
      "(514, 514)\n",
      "picture: 3/181\n"
     ]
    },
    {
     "name": "stderr",
     "output_type": "stream",
     "text": [
      "100%|██████████| 200/200 [00:08<00:00, 24.86it/s]\n"
     ]
    },
    {
     "name": "stdout",
     "output_type": "stream",
     "text": [
      "Elapsed: 8.16370439529419\n",
      "(514, 514)\n",
      "picture: 4/181\n"
     ]
    },
    {
     "name": "stderr",
     "output_type": "stream",
     "text": [
      "100%|██████████| 200/200 [00:08<00:00, 24.80it/s]\n"
     ]
    },
    {
     "name": "stdout",
     "output_type": "stream",
     "text": [
      "Elapsed: 8.179381847381592\n",
      "(514, 514)\n",
      "picture: 5/181\n"
     ]
    },
    {
     "name": "stderr",
     "output_type": "stream",
     "text": [
      "100%|██████████| 200/200 [00:08<00:00, 24.81it/s]\n"
     ]
    },
    {
     "name": "stdout",
     "output_type": "stream",
     "text": [
      "Elapsed: 8.176401376724243\n",
      "(514, 514)\n",
      "picture: 6/181\n"
     ]
    },
    {
     "name": "stderr",
     "output_type": "stream",
     "text": [
      "100%|██████████| 200/200 [00:08<00:00, 24.73it/s]\n"
     ]
    },
    {
     "name": "stdout",
     "output_type": "stream",
     "text": [
      "Elapsed: 8.203102588653564\n",
      "(514, 514)\n",
      "picture: 7/181\n"
     ]
    },
    {
     "name": "stderr",
     "output_type": "stream",
     "text": [
      "100%|██████████| 200/200 [00:08<00:00, 24.84it/s]\n"
     ]
    },
    {
     "name": "stdout",
     "output_type": "stream",
     "text": [
      "Elapsed: 8.167539119720459\n",
      "(514, 514)\n",
      "picture: 8/181\n"
     ]
    },
    {
     "name": "stderr",
     "output_type": "stream",
     "text": [
      "100%|██████████| 200/200 [00:08<00:00, 24.78it/s]\n"
     ]
    },
    {
     "name": "stdout",
     "output_type": "stream",
     "text": [
      "Elapsed: 8.186441421508789\n",
      "(514, 514)\n",
      "picture: 9/181\n"
     ]
    },
    {
     "name": "stderr",
     "output_type": "stream",
     "text": [
      "100%|██████████| 200/200 [00:08<00:00, 24.75it/s]\n"
     ]
    },
    {
     "name": "stdout",
     "output_type": "stream",
     "text": [
      "Elapsed: 8.195442199707031\n",
      "(514, 514)\n",
      "picture: 10/181\n"
     ]
    },
    {
     "name": "stderr",
     "output_type": "stream",
     "text": [
      "100%|██████████| 200/200 [00:08<00:00, 24.66it/s]\n"
     ]
    },
    {
     "name": "stdout",
     "output_type": "stream",
     "text": [
      "Elapsed: 8.225926399230957\n",
      "(514, 514)\n",
      "picture: 11/181\n"
     ]
    },
    {
     "name": "stderr",
     "output_type": "stream",
     "text": [
      "100%|██████████| 200/200 [00:08<00:00, 24.75it/s]\n"
     ]
    },
    {
     "name": "stdout",
     "output_type": "stream",
     "text": [
      "Elapsed: 8.196502447128296\n",
      "(514, 514)\n",
      "picture: 12/181\n"
     ]
    },
    {
     "name": "stderr",
     "output_type": "stream",
     "text": [
      "100%|██████████| 200/200 [00:08<00:00, 24.78it/s]\n"
     ]
    },
    {
     "name": "stdout",
     "output_type": "stream",
     "text": [
      "Elapsed: 8.186864614486694\n",
      "(514, 514)\n",
      "picture: 13/181\n"
     ]
    },
    {
     "name": "stderr",
     "output_type": "stream",
     "text": [
      "100%|██████████| 200/200 [00:08<00:00, 24.77it/s]\n"
     ]
    },
    {
     "name": "stdout",
     "output_type": "stream",
     "text": [
      "Elapsed: 8.192603349685669\n",
      "(514, 514)\n",
      "picture: 14/181\n"
     ]
    },
    {
     "name": "stderr",
     "output_type": "stream",
     "text": [
      "100%|██████████| 200/200 [00:08<00:00, 24.66it/s]\n"
     ]
    },
    {
     "name": "stdout",
     "output_type": "stream",
     "text": [
      "Elapsed: 8.224727869033813\n",
      "(514, 514)\n",
      "picture: 15/181\n"
     ]
    },
    {
     "name": "stderr",
     "output_type": "stream",
     "text": [
      "100%|██████████| 200/200 [00:08<00:00, 24.82it/s]\n"
     ]
    },
    {
     "name": "stdout",
     "output_type": "stream",
     "text": [
      "Elapsed: 8.172317266464233\n",
      "(514, 514)\n",
      "picture: 16/181\n"
     ]
    },
    {
     "name": "stderr",
     "output_type": "stream",
     "text": [
      "100%|██████████| 200/200 [00:08<00:00, 24.68it/s]\n"
     ]
    },
    {
     "name": "stdout",
     "output_type": "stream",
     "text": [
      "Elapsed: 8.219339370727539\n",
      "(514, 514)\n",
      "picture: 17/181\n"
     ]
    },
    {
     "name": "stderr",
     "output_type": "stream",
     "text": [
      "100%|██████████| 200/200 [00:08<00:00, 24.85it/s]\n"
     ]
    },
    {
     "name": "stdout",
     "output_type": "stream",
     "text": [
      "Elapsed: 8.164239645004272\n",
      "(514, 514)\n",
      "picture: 18/181\n"
     ]
    },
    {
     "name": "stderr",
     "output_type": "stream",
     "text": [
      "100%|██████████| 200/200 [00:08<00:00, 24.78it/s]\n"
     ]
    },
    {
     "name": "stdout",
     "output_type": "stream",
     "text": [
      "Elapsed: 8.187912702560425\n",
      "(514, 514)\n",
      "picture: 19/181\n"
     ]
    },
    {
     "name": "stderr",
     "output_type": "stream",
     "text": [
      "100%|██████████| 200/200 [00:08<00:00, 24.86it/s]\n"
     ]
    },
    {
     "name": "stdout",
     "output_type": "stream",
     "text": [
      "Elapsed: 8.159667491912842\n",
      "(514, 514)\n",
      "picture: 20/181\n"
     ]
    },
    {
     "name": "stderr",
     "output_type": "stream",
     "text": [
      "100%|██████████| 200/200 [00:08<00:00, 24.68it/s]\n"
     ]
    },
    {
     "name": "stdout",
     "output_type": "stream",
     "text": [
      "Elapsed: 8.221484899520874\n",
      "(514, 514)\n",
      "picture: 21/181\n"
     ]
    },
    {
     "name": "stderr",
     "output_type": "stream",
     "text": [
      "100%|██████████| 200/200 [00:08<00:00, 24.83it/s]\n"
     ]
    },
    {
     "name": "stdout",
     "output_type": "stream",
     "text": [
      "Elapsed: 8.169684648513794\n",
      "(514, 514)\n",
      "picture: 22/181\n"
     ]
    },
    {
     "name": "stderr",
     "output_type": "stream",
     "text": [
      "100%|██████████| 200/200 [00:08<00:00, 24.73it/s]\n"
     ]
    },
    {
     "name": "stdout",
     "output_type": "stream",
     "text": [
      "Elapsed: 8.20296597480774\n",
      "(514, 514)\n",
      "picture: 23/181\n"
     ]
    },
    {
     "name": "stderr",
     "output_type": "stream",
     "text": [
      "100%|██████████| 200/200 [00:08<00:00, 24.86it/s]\n"
     ]
    },
    {
     "name": "stdout",
     "output_type": "stream",
     "text": [
      "Elapsed: 8.160205841064453\n",
      "(514, 514)\n",
      "picture: 24/181\n"
     ]
    },
    {
     "name": "stderr",
     "output_type": "stream",
     "text": [
      "100%|██████████| 200/200 [00:08<00:00, 24.76it/s]\n"
     ]
    },
    {
     "name": "stdout",
     "output_type": "stream",
     "text": [
      "Elapsed: 8.193645238876343\n",
      "(514, 514)\n",
      "picture: 25/181\n"
     ]
    },
    {
     "name": "stderr",
     "output_type": "stream",
     "text": [
      "100%|██████████| 200/200 [00:08<00:00, 24.76it/s]\n"
     ]
    },
    {
     "name": "stdout",
     "output_type": "stream",
     "text": [
      "Elapsed: 8.191874742507935\n",
      "(514, 514)\n",
      "picture: 26/181\n"
     ]
    },
    {
     "name": "stderr",
     "output_type": "stream",
     "text": [
      "100%|██████████| 200/200 [00:08<00:00, 24.85it/s]\n"
     ]
    },
    {
     "name": "stdout",
     "output_type": "stream",
     "text": [
      "Elapsed: 8.16287636756897\n",
      "(514, 514)\n",
      "picture: 27/181\n"
     ]
    },
    {
     "name": "stderr",
     "output_type": "stream",
     "text": [
      "100%|██████████| 200/200 [00:08<00:00, 24.81it/s]\n"
     ]
    },
    {
     "name": "stdout",
     "output_type": "stream",
     "text": [
      "Elapsed: 8.174801349639893\n",
      "(514, 514)\n",
      "picture: 28/181\n"
     ]
    },
    {
     "name": "stderr",
     "output_type": "stream",
     "text": [
      "100%|██████████| 200/200 [00:08<00:00, 24.83it/s]\n"
     ]
    },
    {
     "name": "stdout",
     "output_type": "stream",
     "text": [
      "Elapsed: 8.171269416809082\n",
      "(514, 514)\n",
      "picture: 29/181\n"
     ]
    },
    {
     "name": "stderr",
     "output_type": "stream",
     "text": [
      "100%|██████████| 200/200 [00:08<00:00, 24.79it/s]\n"
     ]
    },
    {
     "name": "stdout",
     "output_type": "stream",
     "text": [
      "Elapsed: 8.182865858078003\n",
      "(514, 514)\n",
      "picture: 30/181\n"
     ]
    },
    {
     "name": "stderr",
     "output_type": "stream",
     "text": [
      "100%|██████████| 200/200 [00:08<00:00, 24.72it/s]\n"
     ]
    },
    {
     "name": "stdout",
     "output_type": "stream",
     "text": [
      "Elapsed: 8.206287860870361\n",
      "(514, 514)\n",
      "picture: 31/181\n"
     ]
    },
    {
     "name": "stderr",
     "output_type": "stream",
     "text": [
      "100%|██████████| 200/200 [00:08<00:00, 24.89it/s]\n"
     ]
    },
    {
     "name": "stdout",
     "output_type": "stream",
     "text": [
      "Elapsed: 8.151848316192627\n",
      "(514, 514)\n",
      "picture: 32/181\n"
     ]
    },
    {
     "name": "stderr",
     "output_type": "stream",
     "text": [
      "100%|██████████| 200/200 [00:08<00:00, 24.76it/s]\n"
     ]
    },
    {
     "name": "stdout",
     "output_type": "stream",
     "text": [
      "Elapsed: 8.193603038787842\n",
      "(514, 514)\n",
      "picture: 33/181\n"
     ]
    },
    {
     "name": "stderr",
     "output_type": "stream",
     "text": [
      "100%|██████████| 200/200 [00:08<00:00, 24.90it/s]\n"
     ]
    },
    {
     "name": "stdout",
     "output_type": "stream",
     "text": [
      "Elapsed: 8.148283004760742\n",
      "(514, 514)\n",
      "picture: 34/181\n"
     ]
    },
    {
     "name": "stderr",
     "output_type": "stream",
     "text": [
      "100%|██████████| 200/200 [00:08<00:00, 24.75it/s]\n"
     ]
    },
    {
     "name": "stdout",
     "output_type": "stream",
     "text": [
      "Elapsed: 8.196377038955688\n",
      "(514, 514)\n",
      "picture: 35/181\n"
     ]
    },
    {
     "name": "stderr",
     "output_type": "stream",
     "text": [
      "100%|██████████| 200/200 [00:08<00:00, 24.88it/s]\n"
     ]
    },
    {
     "name": "stdout",
     "output_type": "stream",
     "text": [
      "Elapsed: 8.153132915496826\n",
      "(514, 514)\n",
      "picture: 36/181\n"
     ]
    },
    {
     "name": "stderr",
     "output_type": "stream",
     "text": [
      "100%|██████████| 200/200 [00:08<00:00, 24.73it/s]\n"
     ]
    },
    {
     "name": "stdout",
     "output_type": "stream",
     "text": [
      "Elapsed: 8.207317113876343\n",
      "(514, 514)\n",
      "picture: 37/181\n"
     ]
    },
    {
     "name": "stderr",
     "output_type": "stream",
     "text": [
      "100%|██████████| 200/200 [00:08<00:00, 24.87it/s]\n"
     ]
    },
    {
     "name": "stdout",
     "output_type": "stream",
     "text": [
      "Elapsed: 8.155996322631836\n",
      "(514, 514)\n",
      "picture: 38/181\n"
     ]
    },
    {
     "name": "stderr",
     "output_type": "stream",
     "text": [
      "100%|██████████| 200/200 [00:08<00:00, 24.83it/s]\n"
     ]
    },
    {
     "name": "stdout",
     "output_type": "stream",
     "text": [
      "Elapsed: 8.17003870010376\n",
      "(514, 514)\n",
      "picture: 39/181\n"
     ]
    },
    {
     "name": "stderr",
     "output_type": "stream",
     "text": [
      "100%|██████████| 200/200 [00:08<00:00, 24.80it/s]\n"
     ]
    },
    {
     "name": "stdout",
     "output_type": "stream",
     "text": [
      "Elapsed: 8.178985595703125\n",
      "(514, 514)\n",
      "picture: 40/181\n"
     ]
    },
    {
     "name": "stderr",
     "output_type": "stream",
     "text": [
      "100%|██████████| 200/200 [00:08<00:00, 24.71it/s]\n"
     ]
    },
    {
     "name": "stdout",
     "output_type": "stream",
     "text": [
      "Elapsed: 8.208860874176025\n",
      "(514, 514)\n",
      "picture: 41/181\n"
     ]
    },
    {
     "name": "stderr",
     "output_type": "stream",
     "text": [
      "100%|██████████| 200/200 [00:08<00:00, 24.81it/s]\n"
     ]
    },
    {
     "name": "stdout",
     "output_type": "stream",
     "text": [
      "Elapsed: 8.18229866027832\n",
      "(514, 514)\n",
      "picture: 42/181\n"
     ]
    },
    {
     "name": "stderr",
     "output_type": "stream",
     "text": [
      "100%|██████████| 200/200 [00:08<00:00, 24.70it/s]\n"
     ]
    },
    {
     "name": "stdout",
     "output_type": "stream",
     "text": [
      "Elapsed: 8.21202039718628\n",
      "(514, 514)\n",
      "picture: 43/181\n"
     ]
    },
    {
     "name": "stderr",
     "output_type": "stream",
     "text": [
      "100%|██████████| 200/200 [00:08<00:00, 24.90it/s]\n"
     ]
    },
    {
     "name": "stdout",
     "output_type": "stream",
     "text": [
      "Elapsed: 8.147817850112915\n",
      "(514, 514)\n",
      "picture: 44/181\n"
     ]
    },
    {
     "name": "stderr",
     "output_type": "stream",
     "text": [
      "100%|██████████| 200/200 [00:08<00:00, 24.74it/s]\n"
     ]
    },
    {
     "name": "stdout",
     "output_type": "stream",
     "text": [
      "Elapsed: 8.198913812637329\n",
      "(514, 514)\n",
      "picture: 45/181\n"
     ]
    },
    {
     "name": "stderr",
     "output_type": "stream",
     "text": [
      "100%|██████████| 200/200 [00:08<00:00, 24.88it/s]\n"
     ]
    },
    {
     "name": "stdout",
     "output_type": "stream",
     "text": [
      "Elapsed: 8.152419567108154\n",
      "(514, 514)\n",
      "picture: 46/181\n"
     ]
    },
    {
     "name": "stderr",
     "output_type": "stream",
     "text": [
      "100%|██████████| 200/200 [00:08<00:00, 24.84it/s]\n"
     ]
    },
    {
     "name": "stdout",
     "output_type": "stream",
     "text": [
      "Elapsed: 8.168845415115356\n",
      "(514, 514)\n",
      "picture: 47/181\n"
     ]
    },
    {
     "name": "stderr",
     "output_type": "stream",
     "text": [
      "100%|██████████| 200/200 [00:08<00:00, 24.78it/s]\n"
     ]
    },
    {
     "name": "stdout",
     "output_type": "stream",
     "text": [
      "Elapsed: 8.186740398406982\n",
      "(514, 514)\n",
      "picture: 48/181\n"
     ]
    },
    {
     "name": "stderr",
     "output_type": "stream",
     "text": [
      "100%|██████████| 200/200 [00:08<00:00, 24.84it/s]\n"
     ]
    },
    {
     "name": "stdout",
     "output_type": "stream",
     "text": [
      "Elapsed: 8.168999433517456\n",
      "(514, 514)\n",
      "picture: 49/181\n"
     ]
    },
    {
     "name": "stderr",
     "output_type": "stream",
     "text": [
      "100%|██████████| 200/200 [00:08<00:00, 24.89it/s]\n"
     ]
    },
    {
     "name": "stdout",
     "output_type": "stream",
     "text": [
      "Elapsed: 8.152499675750732\n",
      "(514, 514)\n",
      "picture: 50/181\n"
     ]
    },
    {
     "name": "stderr",
     "output_type": "stream",
     "text": [
      "100%|██████████| 200/200 [00:08<00:00, 24.81it/s]\n"
     ]
    },
    {
     "name": "stdout",
     "output_type": "stream",
     "text": [
      "Elapsed: 8.1759192943573\n",
      "(514, 514)\n",
      "picture: 51/181\n"
     ]
    },
    {
     "name": "stderr",
     "output_type": "stream",
     "text": [
      "100%|██████████| 200/200 [00:08<00:00, 24.80it/s]\n"
     ]
    },
    {
     "name": "stdout",
     "output_type": "stream",
     "text": [
      "Elapsed: 8.180015563964844\n",
      "(514, 514)\n",
      "picture: 52/181\n"
     ]
    },
    {
     "name": "stderr",
     "output_type": "stream",
     "text": [
      "100%|██████████| 200/200 [00:08<00:00, 24.82it/s]\n"
     ]
    },
    {
     "name": "stdout",
     "output_type": "stream",
     "text": [
      "Elapsed: 8.172170400619507\n",
      "(514, 514)\n",
      "picture: 53/181\n"
     ]
    },
    {
     "name": "stderr",
     "output_type": "stream",
     "text": [
      "100%|██████████| 200/200 [00:08<00:00, 24.90it/s]\n"
     ]
    },
    {
     "name": "stdout",
     "output_type": "stream",
     "text": [
      "Elapsed: 8.150043964385986\n",
      "(514, 514)\n",
      "picture: 54/181\n"
     ]
    },
    {
     "name": "stderr",
     "output_type": "stream",
     "text": [
      "100%|██████████| 200/200 [00:08<00:00, 24.81it/s]\n"
     ]
    },
    {
     "name": "stdout",
     "output_type": "stream",
     "text": [
      "Elapsed: 8.174817323684692\n",
      "(514, 514)\n",
      "picture: 55/181\n"
     ]
    },
    {
     "name": "stderr",
     "output_type": "stream",
     "text": [
      "100%|██████████| 200/200 [00:08<00:00, 24.80it/s]\n"
     ]
    },
    {
     "name": "stdout",
     "output_type": "stream",
     "text": [
      "Elapsed: 8.181747198104858\n",
      "(514, 514)\n",
      "picture: 56/181\n"
     ]
    },
    {
     "name": "stderr",
     "output_type": "stream",
     "text": [
      "100%|██████████| 200/200 [00:08<00:00, 24.82it/s]\n"
     ]
    },
    {
     "name": "stdout",
     "output_type": "stream",
     "text": [
      "Elapsed: 8.171832084655762\n",
      "(514, 514)\n",
      "picture: 57/181\n"
     ]
    },
    {
     "name": "stderr",
     "output_type": "stream",
     "text": [
      "100%|██████████| 200/200 [00:08<00:00, 24.77it/s]\n"
     ]
    },
    {
     "name": "stdout",
     "output_type": "stream",
     "text": [
      "Elapsed: 8.19425368309021\n",
      "(514, 514)\n",
      "picture: 58/181\n"
     ]
    },
    {
     "name": "stderr",
     "output_type": "stream",
     "text": [
      "100%|██████████| 200/200 [00:08<00:00, 24.73it/s]\n"
     ]
    },
    {
     "name": "stdout",
     "output_type": "stream",
     "text": [
      "Elapsed: 8.202487230300903\n",
      "(514, 514)\n",
      "picture: 59/181\n"
     ]
    },
    {
     "name": "stderr",
     "output_type": "stream",
     "text": [
      "100%|██████████| 200/200 [00:08<00:00, 24.89it/s]\n"
     ]
    },
    {
     "name": "stdout",
     "output_type": "stream",
     "text": [
      "Elapsed: 8.14907431602478\n",
      "(514, 514)\n",
      "picture: 60/181\n"
     ]
    },
    {
     "name": "stderr",
     "output_type": "stream",
     "text": [
      "100%|██████████| 200/200 [00:08<00:00, 24.74it/s]\n"
     ]
    },
    {
     "name": "stdout",
     "output_type": "stream",
     "text": [
      "Elapsed: 8.197913408279419\n",
      "(514, 514)\n",
      "picture: 61/181\n"
     ]
    },
    {
     "name": "stderr",
     "output_type": "stream",
     "text": [
      "100%|██████████| 200/200 [00:08<00:00, 24.88it/s]\n"
     ]
    },
    {
     "name": "stdout",
     "output_type": "stream",
     "text": [
      "Elapsed: 8.153430461883545\n",
      "(514, 514)\n",
      "picture: 62/181\n"
     ]
    },
    {
     "name": "stderr",
     "output_type": "stream",
     "text": [
      "100%|██████████| 200/200 [00:08<00:00, 24.82it/s]\n"
     ]
    },
    {
     "name": "stdout",
     "output_type": "stream",
     "text": [
      "Elapsed: 8.175103187561035\n",
      "(514, 514)\n",
      "picture: 63/181\n"
     ]
    },
    {
     "name": "stderr",
     "output_type": "stream",
     "text": [
      "100%|██████████| 200/200 [00:08<00:00, 24.84it/s]\n"
     ]
    },
    {
     "name": "stdout",
     "output_type": "stream",
     "text": [
      "Elapsed: 8.167448282241821\n",
      "(514, 514)\n",
      "picture: 64/181\n"
     ]
    },
    {
     "name": "stderr",
     "output_type": "stream",
     "text": [
      "100%|██████████| 200/200 [00:08<00:00, 24.72it/s]\n"
     ]
    },
    {
     "name": "stdout",
     "output_type": "stream",
     "text": [
      "Elapsed: 8.206323385238647\n",
      "(514, 514)\n",
      "picture: 65/181\n"
     ]
    },
    {
     "name": "stderr",
     "output_type": "stream",
     "text": [
      "100%|██████████| 200/200 [00:08<00:00, 24.90it/s]\n"
     ]
    },
    {
     "name": "stdout",
     "output_type": "stream",
     "text": [
      "Elapsed: 8.146915435791016\n",
      "(514, 514)\n",
      "picture: 66/181\n"
     ]
    },
    {
     "name": "stderr",
     "output_type": "stream",
     "text": [
      "100%|██████████| 200/200 [00:08<00:00, 24.82it/s]\n"
     ]
    },
    {
     "name": "stdout",
     "output_type": "stream",
     "text": [
      "Elapsed: 8.174590826034546\n",
      "(514, 514)\n",
      "picture: 67/181\n"
     ]
    },
    {
     "name": "stderr",
     "output_type": "stream",
     "text": [
      "100%|██████████| 200/200 [00:08<00:00, 24.79it/s]\n"
     ]
    },
    {
     "name": "stdout",
     "output_type": "stream",
     "text": [
      "Elapsed: 8.183714151382446\n",
      "(514, 514)\n",
      "picture: 68/181\n"
     ]
    },
    {
     "name": "stderr",
     "output_type": "stream",
     "text": [
      "100%|██████████| 200/200 [00:08<00:00, 24.81it/s]\n"
     ]
    },
    {
     "name": "stdout",
     "output_type": "stream",
     "text": [
      "Elapsed: 8.17554783821106\n",
      "(514, 514)\n",
      "picture: 69/181\n"
     ]
    },
    {
     "name": "stderr",
     "output_type": "stream",
     "text": [
      "100%|██████████| 200/200 [00:08<00:00, 24.78it/s]\n"
     ]
    },
    {
     "name": "stdout",
     "output_type": "stream",
     "text": [
      "Elapsed: 8.187510013580322\n",
      "(514, 514)\n",
      "picture: 70/181\n"
     ]
    },
    {
     "name": "stderr",
     "output_type": "stream",
     "text": [
      "100%|██████████| 200/200 [00:08<00:00, 24.70it/s]\n"
     ]
    },
    {
     "name": "stdout",
     "output_type": "stream",
     "text": [
      "Elapsed: 8.211084127426147\n",
      "(514, 514)\n",
      "picture: 71/181\n"
     ]
    },
    {
     "name": "stderr",
     "output_type": "stream",
     "text": [
      "100%|██████████| 200/200 [00:08<00:00, 24.86it/s]\n"
     ]
    },
    {
     "name": "stdout",
     "output_type": "stream",
     "text": [
      "Elapsed: 8.159556865692139\n",
      "(514, 514)\n",
      "picture: 72/181\n"
     ]
    },
    {
     "name": "stderr",
     "output_type": "stream",
     "text": [
      "100%|██████████| 200/200 [00:08<00:00, 24.73it/s]\n"
     ]
    },
    {
     "name": "stdout",
     "output_type": "stream",
     "text": [
      "Elapsed: 8.205557823181152\n",
      "(514, 514)\n",
      "picture: 73/181\n"
     ]
    },
    {
     "name": "stderr",
     "output_type": "stream",
     "text": [
      "100%|██████████| 200/200 [00:08<00:00, 24.90it/s]\n"
     ]
    },
    {
     "name": "stdout",
     "output_type": "stream",
     "text": [
      "Elapsed: 8.150017499923706\n",
      "(514, 514)\n",
      "picture: 74/181\n"
     ]
    },
    {
     "name": "stderr",
     "output_type": "stream",
     "text": [
      "100%|██████████| 200/200 [00:08<00:00, 24.83it/s]\n"
     ]
    },
    {
     "name": "stdout",
     "output_type": "stream",
     "text": [
      "Elapsed: 8.168999671936035\n",
      "(514, 514)\n",
      "picture: 75/181\n"
     ]
    },
    {
     "name": "stderr",
     "output_type": "stream",
     "text": [
      "100%|██████████| 200/200 [00:08<00:00, 24.79it/s]\n"
     ]
    },
    {
     "name": "stdout",
     "output_type": "stream",
     "text": [
      "Elapsed: 8.18409538269043\n",
      "(514, 514)\n",
      "picture: 76/181\n"
     ]
    },
    {
     "name": "stderr",
     "output_type": "stream",
     "text": [
      "100%|██████████| 200/200 [00:08<00:00, 24.84it/s]\n"
     ]
    },
    {
     "name": "stdout",
     "output_type": "stream",
     "text": [
      "Elapsed: 8.167778015136719\n",
      "(514, 514)\n",
      "picture: 77/181\n"
     ]
    },
    {
     "name": "stderr",
     "output_type": "stream",
     "text": [
      "100%|██████████| 200/200 [00:08<00:00, 24.81it/s]\n"
     ]
    },
    {
     "name": "stdout",
     "output_type": "stream",
     "text": [
      "Elapsed: 8.179900407791138\n",
      "(514, 514)\n",
      "picture: 78/181\n"
     ]
    },
    {
     "name": "stderr",
     "output_type": "stream",
     "text": [
      "100%|██████████| 200/200 [00:08<00:00, 24.73it/s]\n"
     ]
    },
    {
     "name": "stdout",
     "output_type": "stream",
     "text": [
      "Elapsed: 8.202294826507568\n",
      "(514, 514)\n",
      "picture: 79/181\n"
     ]
    },
    {
     "name": "stderr",
     "output_type": "stream",
     "text": [
      "100%|██████████| 200/200 [00:08<00:00, 24.79it/s]\n"
     ]
    },
    {
     "name": "stdout",
     "output_type": "stream",
     "text": [
      "Elapsed: 8.182233810424805\n",
      "(514, 514)\n",
      "picture: 80/181\n"
     ]
    },
    {
     "name": "stderr",
     "output_type": "stream",
     "text": [
      "100%|██████████| 200/200 [00:08<00:00, 24.84it/s]\n"
     ]
    },
    {
     "name": "stdout",
     "output_type": "stream",
     "text": [
      "Elapsed: 8.165414810180664\n",
      "(514, 514)\n",
      "picture: 81/181\n"
     ]
    },
    {
     "name": "stderr",
     "output_type": "stream",
     "text": [
      "100%|██████████| 200/200 [00:08<00:00, 24.80it/s]\n"
     ]
    },
    {
     "name": "stdout",
     "output_type": "stream",
     "text": [
      "Elapsed: 8.178967475891113\n",
      "(514, 514)\n",
      "picture: 82/181\n"
     ]
    },
    {
     "name": "stderr",
     "output_type": "stream",
     "text": [
      "100%|██████████| 200/200 [00:08<00:00, 24.68it/s]\n"
     ]
    },
    {
     "name": "stdout",
     "output_type": "stream",
     "text": [
      "Elapsed: 8.218060970306396\n",
      "(514, 514)\n",
      "picture: 83/181\n"
     ]
    },
    {
     "name": "stderr",
     "output_type": "stream",
     "text": [
      "100%|██████████| 200/200 [00:08<00:00, 24.80it/s]\n"
     ]
    },
    {
     "name": "stdout",
     "output_type": "stream",
     "text": [
      "Elapsed: 8.18229341506958\n",
      "(514, 514)\n",
      "picture: 84/181\n"
     ]
    },
    {
     "name": "stderr",
     "output_type": "stream",
     "text": [
      "100%|██████████| 200/200 [00:08<00:00, 24.80it/s]\n"
     ]
    },
    {
     "name": "stdout",
     "output_type": "stream",
     "text": [
      "Elapsed: 8.179489374160767\n",
      "(514, 514)\n",
      "picture: 85/181\n"
     ]
    },
    {
     "name": "stderr",
     "output_type": "stream",
     "text": [
      "100%|██████████| 200/200 [00:08<00:00, 24.79it/s]\n"
     ]
    },
    {
     "name": "stdout",
     "output_type": "stream",
     "text": [
      "Elapsed: 8.183051347732544\n",
      "(514, 514)\n",
      "picture: 86/181\n"
     ]
    },
    {
     "name": "stderr",
     "output_type": "stream",
     "text": [
      "100%|██████████| 200/200 [00:08<00:00, 24.71it/s]\n"
     ]
    },
    {
     "name": "stdout",
     "output_type": "stream",
     "text": [
      "Elapsed: 8.210895299911499\n",
      "(514, 514)\n",
      "picture: 87/181\n"
     ]
    },
    {
     "name": "stderr",
     "output_type": "stream",
     "text": [
      "100%|██████████| 200/200 [00:08<00:00, 24.79it/s]\n"
     ]
    },
    {
     "name": "stdout",
     "output_type": "stream",
     "text": [
      "Elapsed: 8.183266878128052\n",
      "(514, 514)\n",
      "picture: 88/181\n"
     ]
    },
    {
     "name": "stderr",
     "output_type": "stream",
     "text": [
      "100%|██████████| 200/200 [00:08<00:00, 24.73it/s]\n"
     ]
    },
    {
     "name": "stdout",
     "output_type": "stream",
     "text": [
      "Elapsed: 8.202272415161133\n",
      "(514, 514)\n",
      "picture: 89/181\n"
     ]
    },
    {
     "name": "stderr",
     "output_type": "stream",
     "text": [
      "100%|██████████| 200/200 [00:08<00:00, 24.90it/s]\n"
     ]
    },
    {
     "name": "stdout",
     "output_type": "stream",
     "text": [
      "Elapsed: 8.145792722702026\n",
      "(514, 514)\n",
      "picture: 90/181\n"
     ]
    },
    {
     "name": "stderr",
     "output_type": "stream",
     "text": [
      "100%|██████████| 200/200 [00:08<00:00, 24.82it/s]\n"
     ]
    },
    {
     "name": "stdout",
     "output_type": "stream",
     "text": [
      "Elapsed: 8.17395830154419\n",
      "(514, 514)\n",
      "picture: 91/181\n"
     ]
    },
    {
     "name": "stderr",
     "output_type": "stream",
     "text": [
      "100%|██████████| 200/200 [00:08<00:00, 24.81it/s]\n"
     ]
    },
    {
     "name": "stdout",
     "output_type": "stream",
     "text": [
      "Elapsed: 8.175028800964355\n",
      "(514, 514)\n",
      "picture: 92/181\n"
     ]
    },
    {
     "name": "stderr",
     "output_type": "stream",
     "text": [
      "100%|██████████| 200/200 [00:08<00:00, 24.78it/s]\n"
     ]
    },
    {
     "name": "stdout",
     "output_type": "stream",
     "text": [
      "Elapsed: 8.185337543487549\n",
      "(514, 514)\n",
      "picture: 93/181\n"
     ]
    },
    {
     "name": "stderr",
     "output_type": "stream",
     "text": [
      "100%|██████████| 200/200 [00:08<00:00, 24.83it/s]\n"
     ]
    },
    {
     "name": "stdout",
     "output_type": "stream",
     "text": [
      "Elapsed: 8.171226739883423\n",
      "(514, 514)\n",
      "picture: 94/181\n"
     ]
    },
    {
     "name": "stderr",
     "output_type": "stream",
     "text": [
      "100%|██████████| 200/200 [00:08<00:00, 24.84it/s]\n"
     ]
    },
    {
     "name": "stdout",
     "output_type": "stream",
     "text": [
      "Elapsed: 8.16672945022583\n",
      "(514, 514)\n",
      "picture: 95/181\n"
     ]
    },
    {
     "name": "stderr",
     "output_type": "stream",
     "text": [
      "100%|██████████| 200/200 [00:08<00:00, 24.82it/s]\n"
     ]
    },
    {
     "name": "stdout",
     "output_type": "stream",
     "text": [
      "Elapsed: 8.172450542449951\n",
      "(514, 514)\n",
      "picture: 96/181\n"
     ]
    },
    {
     "name": "stderr",
     "output_type": "stream",
     "text": [
      "100%|██████████| 200/200 [00:08<00:00, 24.85it/s]\n"
     ]
    },
    {
     "name": "stdout",
     "output_type": "stream",
     "text": [
      "Elapsed: 8.16408634185791\n",
      "(514, 514)\n",
      "picture: 97/181\n"
     ]
    },
    {
     "name": "stderr",
     "output_type": "stream",
     "text": [
      "100%|██████████| 200/200 [00:08<00:00, 24.83it/s]\n"
     ]
    },
    {
     "name": "stdout",
     "output_type": "stream",
     "text": [
      "Elapsed: 8.170580625534058\n",
      "(514, 514)\n",
      "picture: 98/181\n"
     ]
    },
    {
     "name": "stderr",
     "output_type": "stream",
     "text": [
      "100%|██████████| 200/200 [00:08<00:00, 24.75it/s]\n"
     ]
    },
    {
     "name": "stdout",
     "output_type": "stream",
     "text": [
      "Elapsed: 8.196081638336182\n",
      "(514, 514)\n",
      "picture: 99/181\n"
     ]
    },
    {
     "name": "stderr",
     "output_type": "stream",
     "text": [
      "100%|██████████| 200/200 [00:08<00:00, 24.88it/s]\n"
     ]
    },
    {
     "name": "stdout",
     "output_type": "stream",
     "text": [
      "Elapsed: 8.156378507614136\n",
      "(514, 514)\n",
      "picture: 100/181\n"
     ]
    },
    {
     "name": "stderr",
     "output_type": "stream",
     "text": [
      "100%|██████████| 200/200 [00:08<00:00, 24.71it/s]\n"
     ]
    },
    {
     "name": "stdout",
     "output_type": "stream",
     "text": [
      "Elapsed: 8.208815574645996\n",
      "(514, 514)\n",
      "picture: 101/181\n"
     ]
    },
    {
     "name": "stderr",
     "output_type": "stream",
     "text": [
      "100%|██████████| 200/200 [00:08<00:00, 24.92it/s]\n"
     ]
    },
    {
     "name": "stdout",
     "output_type": "stream",
     "text": [
      "Elapsed: 8.141417503356934\n",
      "(514, 514)\n",
      "picture: 102/181\n"
     ]
    },
    {
     "name": "stderr",
     "output_type": "stream",
     "text": [
      "100%|██████████| 200/200 [00:08<00:00, 24.72it/s]\n"
     ]
    },
    {
     "name": "stdout",
     "output_type": "stream",
     "text": [
      "Elapsed: 8.206984281539917\n",
      "(514, 514)\n",
      "picture: 103/181\n"
     ]
    },
    {
     "name": "stderr",
     "output_type": "stream",
     "text": [
      "100%|██████████| 200/200 [00:08<00:00, 24.87it/s]\n"
     ]
    },
    {
     "name": "stdout",
     "output_type": "stream",
     "text": [
      "Elapsed: 8.157718658447266\n",
      "(514, 514)\n",
      "picture: 104/181\n"
     ]
    },
    {
     "name": "stderr",
     "output_type": "stream",
     "text": [
      "100%|██████████| 200/200 [00:08<00:00, 24.83it/s]\n"
     ]
    },
    {
     "name": "stdout",
     "output_type": "stream",
     "text": [
      "Elapsed: 8.169209241867065\n",
      "(514, 514)\n",
      "picture: 105/181\n"
     ]
    },
    {
     "name": "stderr",
     "output_type": "stream",
     "text": [
      "100%|██████████| 200/200 [00:08<00:00, 24.79it/s]\n"
     ]
    },
    {
     "name": "stdout",
     "output_type": "stream",
     "text": [
      "Elapsed: 8.182162523269653\n",
      "(514, 514)\n",
      "picture: 106/181\n"
     ]
    },
    {
     "name": "stderr",
     "output_type": "stream",
     "text": [
      "100%|██████████| 200/200 [00:08<00:00, 24.74it/s]\n"
     ]
    },
    {
     "name": "stdout",
     "output_type": "stream",
     "text": [
      "Elapsed: 8.197758674621582\n",
      "(514, 514)\n",
      "picture: 107/181\n"
     ]
    },
    {
     "name": "stderr",
     "output_type": "stream",
     "text": [
      "100%|██████████| 200/200 [00:08<00:00, 24.89it/s]\n"
     ]
    },
    {
     "name": "stdout",
     "output_type": "stream",
     "text": [
      "Elapsed: 8.151357173919678\n",
      "(514, 514)\n",
      "picture: 108/181\n"
     ]
    },
    {
     "name": "stderr",
     "output_type": "stream",
     "text": [
      "100%|██████████| 200/200 [00:08<00:00, 24.74it/s]\n"
     ]
    },
    {
     "name": "stdout",
     "output_type": "stream",
     "text": [
      "Elapsed: 8.197432041168213\n",
      "(514, 514)\n",
      "picture: 109/181\n"
     ]
    },
    {
     "name": "stderr",
     "output_type": "stream",
     "text": [
      "100%|██████████| 200/200 [00:08<00:00, 24.81it/s]\n"
     ]
    },
    {
     "name": "stdout",
     "output_type": "stream",
     "text": [
      "Elapsed: 8.175961256027222\n",
      "(514, 514)\n",
      "picture: 110/181\n"
     ]
    },
    {
     "name": "stderr",
     "output_type": "stream",
     "text": [
      "100%|██████████| 200/200 [00:08<00:00, 24.69it/s]\n"
     ]
    },
    {
     "name": "stdout",
     "output_type": "stream",
     "text": [
      "Elapsed: 8.216063976287842\n",
      "(514, 514)\n",
      "picture: 111/181\n"
     ]
    },
    {
     "name": "stderr",
     "output_type": "stream",
     "text": [
      "100%|██████████| 200/200 [00:08<00:00, 24.90it/s]\n"
     ]
    },
    {
     "name": "stdout",
     "output_type": "stream",
     "text": [
      "Elapsed: 8.148539304733276\n",
      "(514, 514)\n",
      "picture: 112/181\n"
     ]
    },
    {
     "name": "stderr",
     "output_type": "stream",
     "text": [
      "100%|██████████| 200/200 [00:08<00:00, 24.72it/s]\n"
     ]
    },
    {
     "name": "stdout",
     "output_type": "stream",
     "text": [
      "Elapsed: 8.205992221832275\n",
      "(514, 514)\n",
      "picture: 113/181\n"
     ]
    },
    {
     "name": "stderr",
     "output_type": "stream",
     "text": [
      "100%|██████████| 200/200 [00:08<00:00, 24.82it/s]\n"
     ]
    },
    {
     "name": "stdout",
     "output_type": "stream",
     "text": [
      "Elapsed: 8.172415971755981\n",
      "(514, 514)\n",
      "picture: 114/181\n"
     ]
    },
    {
     "name": "stderr",
     "output_type": "stream",
     "text": [
      "100%|██████████| 200/200 [00:08<00:00, 24.68it/s]\n"
     ]
    },
    {
     "name": "stdout",
     "output_type": "stream",
     "text": [
      "Elapsed: 8.217940092086792\n",
      "(514, 514)\n",
      "picture: 115/181\n"
     ]
    },
    {
     "name": "stderr",
     "output_type": "stream",
     "text": [
      "100%|██████████| 200/200 [00:08<00:00, 24.89it/s]\n"
     ]
    },
    {
     "name": "stdout",
     "output_type": "stream",
     "text": [
      "Elapsed: 8.15009331703186\n",
      "(514, 514)\n",
      "picture: 116/181\n"
     ]
    },
    {
     "name": "stderr",
     "output_type": "stream",
     "text": [
      "100%|██████████| 200/200 [00:08<00:00, 24.73it/s]\n"
     ]
    },
    {
     "name": "stdout",
     "output_type": "stream",
     "text": [
      "Elapsed: 8.200603008270264\n",
      "(514, 514)\n",
      "picture: 117/181\n"
     ]
    },
    {
     "name": "stderr",
     "output_type": "stream",
     "text": [
      "100%|██████████| 200/200 [00:08<00:00, 24.85it/s]\n"
     ]
    },
    {
     "name": "stdout",
     "output_type": "stream",
     "text": [
      "Elapsed: 8.162464380264282\n",
      "(514, 514)\n",
      "picture: 118/181\n"
     ]
    },
    {
     "name": "stderr",
     "output_type": "stream",
     "text": [
      "100%|██████████| 200/200 [00:08<00:00, 24.74it/s]\n"
     ]
    },
    {
     "name": "stdout",
     "output_type": "stream",
     "text": [
      "Elapsed: 8.200007200241089\n",
      "(514, 514)\n",
      "picture: 119/181\n"
     ]
    },
    {
     "name": "stderr",
     "output_type": "stream",
     "text": [
      "100%|██████████| 200/200 [00:08<00:00, 24.88it/s]\n"
     ]
    },
    {
     "name": "stdout",
     "output_type": "stream",
     "text": [
      "Elapsed: 8.153481006622314\n",
      "(514, 514)\n",
      "picture: 120/181\n"
     ]
    },
    {
     "name": "stderr",
     "output_type": "stream",
     "text": [
      "100%|██████████| 200/200 [00:08<00:00, 24.80it/s]\n"
     ]
    },
    {
     "name": "stdout",
     "output_type": "stream",
     "text": [
      "Elapsed: 8.179758787155151\n",
      "(514, 514)\n",
      "picture: 121/181\n"
     ]
    },
    {
     "name": "stderr",
     "output_type": "stream",
     "text": [
      "100%|██████████| 200/200 [00:08<00:00, 24.80it/s]\n"
     ]
    },
    {
     "name": "stdout",
     "output_type": "stream",
     "text": [
      "Elapsed: 8.178876638412476\n",
      "(514, 514)\n",
      "picture: 122/181\n"
     ]
    },
    {
     "name": "stderr",
     "output_type": "stream",
     "text": [
      "100%|██████████| 200/200 [00:08<00:00, 24.73it/s]\n"
     ]
    },
    {
     "name": "stdout",
     "output_type": "stream",
     "text": [
      "Elapsed: 8.202903747558594\n",
      "(514, 514)\n",
      "picture: 123/181\n"
     ]
    },
    {
     "name": "stderr",
     "output_type": "stream",
     "text": [
      "100%|██████████| 200/200 [00:08<00:00, 24.91it/s]\n"
     ]
    },
    {
     "name": "stdout",
     "output_type": "stream",
     "text": [
      "Elapsed: 8.146170616149902\n",
      "(514, 514)\n",
      "picture: 124/181\n"
     ]
    },
    {
     "name": "stderr",
     "output_type": "stream",
     "text": [
      "100%|██████████| 200/200 [00:08<00:00, 24.82it/s]\n"
     ]
    },
    {
     "name": "stdout",
     "output_type": "stream",
     "text": [
      "Elapsed: 8.172141790390015\n",
      "(514, 514)\n",
      "picture: 125/181\n"
     ]
    },
    {
     "name": "stderr",
     "output_type": "stream",
     "text": [
      "100%|██████████| 200/200 [00:08<00:00, 24.77it/s]\n"
     ]
    },
    {
     "name": "stdout",
     "output_type": "stream",
     "text": [
      "Elapsed: 8.190173864364624\n",
      "(514, 514)\n",
      "picture: 126/181\n"
     ]
    },
    {
     "name": "stderr",
     "output_type": "stream",
     "text": [
      "100%|██████████| 200/200 [00:08<00:00, 24.74it/s]\n"
     ]
    },
    {
     "name": "stdout",
     "output_type": "stream",
     "text": [
      "Elapsed: 8.200997114181519\n",
      "(514, 514)\n",
      "picture: 127/181\n"
     ]
    },
    {
     "name": "stderr",
     "output_type": "stream",
     "text": [
      "100%|██████████| 200/200 [00:08<00:00, 24.88it/s]\n"
     ]
    },
    {
     "name": "stdout",
     "output_type": "stream",
     "text": [
      "Elapsed: 8.155778884887695\n",
      "(514, 514)\n",
      "picture: 128/181\n"
     ]
    },
    {
     "name": "stderr",
     "output_type": "stream",
     "text": [
      "100%|██████████| 200/200 [00:08<00:00, 24.74it/s]\n"
     ]
    },
    {
     "name": "stdout",
     "output_type": "stream",
     "text": [
      "Elapsed: 8.198586225509644\n",
      "(514, 514)\n",
      "picture: 129/181\n"
     ]
    },
    {
     "name": "stderr",
     "output_type": "stream",
     "text": [
      "100%|██████████| 200/200 [00:08<00:00, 24.88it/s]\n"
     ]
    },
    {
     "name": "stdout",
     "output_type": "stream",
     "text": [
      "Elapsed: 8.152734756469727\n",
      "(514, 514)\n",
      "picture: 130/181\n"
     ]
    },
    {
     "name": "stderr",
     "output_type": "stream",
     "text": [
      "100%|██████████| 200/200 [00:08<00:00, 24.81it/s]\n"
     ]
    },
    {
     "name": "stdout",
     "output_type": "stream",
     "text": [
      "Elapsed: 8.177405595779419\n",
      "(514, 514)\n",
      "picture: 131/181\n"
     ]
    },
    {
     "name": "stderr",
     "output_type": "stream",
     "text": [
      "100%|██████████| 200/200 [00:08<00:00, 24.79it/s]\n"
     ]
    },
    {
     "name": "stdout",
     "output_type": "stream",
     "text": [
      "Elapsed: 8.185163259506226\n",
      "(514, 514)\n",
      "picture: 132/181\n"
     ]
    },
    {
     "name": "stderr",
     "output_type": "stream",
     "text": [
      "100%|██████████| 200/200 [00:08<00:00, 24.72it/s]\n"
     ]
    },
    {
     "name": "stdout",
     "output_type": "stream",
     "text": [
      "Elapsed: 8.205729961395264\n",
      "(514, 514)\n",
      "picture: 133/181\n"
     ]
    },
    {
     "name": "stderr",
     "output_type": "stream",
     "text": [
      "100%|██████████| 200/200 [00:08<00:00, 24.93it/s]\n"
     ]
    },
    {
     "name": "stdout",
     "output_type": "stream",
     "text": [
      "Elapsed: 8.141273736953735\n",
      "(514, 514)\n",
      "picture: 134/181\n"
     ]
    },
    {
     "name": "stderr",
     "output_type": "stream",
     "text": [
      "100%|██████████| 200/200 [00:08<00:00, 24.83it/s]\n"
     ]
    },
    {
     "name": "stdout",
     "output_type": "stream",
     "text": [
      "Elapsed: 8.16876769065857\n",
      "(514, 514)\n",
      "picture: 135/181\n"
     ]
    },
    {
     "name": "stderr",
     "output_type": "stream",
     "text": [
      "100%|██████████| 200/200 [00:08<00:00, 24.77it/s]\n"
     ]
    },
    {
     "name": "stdout",
     "output_type": "stream",
     "text": [
      "Elapsed: 8.191795349121094\n",
      "(514, 514)\n",
      "picture: 136/181\n"
     ]
    },
    {
     "name": "stderr",
     "output_type": "stream",
     "text": [
      "100%|██████████| 200/200 [00:08<00:00, 24.73it/s]\n"
     ]
    },
    {
     "name": "stdout",
     "output_type": "stream",
     "text": [
      "Elapsed: 8.20287013053894\n",
      "(514, 514)\n",
      "picture: 137/181\n"
     ]
    },
    {
     "name": "stderr",
     "output_type": "stream",
     "text": [
      "100%|██████████| 200/200 [00:08<00:00, 24.89it/s]\n"
     ]
    },
    {
     "name": "stdout",
     "output_type": "stream",
     "text": [
      "Elapsed: 8.149025201797485\n",
      "(514, 514)\n",
      "picture: 138/181\n"
     ]
    },
    {
     "name": "stderr",
     "output_type": "stream",
     "text": [
      "100%|██████████| 200/200 [00:08<00:00, 24.82it/s]\n"
     ]
    },
    {
     "name": "stdout",
     "output_type": "stream",
     "text": [
      "Elapsed: 8.172152996063232\n",
      "(514, 514)\n",
      "picture: 139/181\n"
     ]
    },
    {
     "name": "stderr",
     "output_type": "stream",
     "text": [
      "100%|██████████| 200/200 [00:08<00:00, 24.89it/s]\n"
     ]
    },
    {
     "name": "stdout",
     "output_type": "stream",
     "text": [
      "Elapsed: 8.150476694107056\n",
      "(514, 514)\n",
      "picture: 140/181\n"
     ]
    },
    {
     "name": "stderr",
     "output_type": "stream",
     "text": [
      "100%|██████████| 200/200 [00:08<00:00, 24.72it/s]\n"
     ]
    },
    {
     "name": "stdout",
     "output_type": "stream",
     "text": [
      "Elapsed: 8.207360029220581\n",
      "(514, 514)\n",
      "picture: 141/181\n"
     ]
    },
    {
     "name": "stderr",
     "output_type": "stream",
     "text": [
      "100%|██████████| 200/200 [00:08<00:00, 24.90it/s]\n"
     ]
    },
    {
     "name": "stdout",
     "output_type": "stream",
     "text": [
      "Elapsed: 8.147658348083496\n",
      "(514, 514)\n",
      "picture: 142/181\n"
     ]
    },
    {
     "name": "stderr",
     "output_type": "stream",
     "text": [
      "100%|██████████| 200/200 [00:08<00:00, 24.80it/s]\n"
     ]
    },
    {
     "name": "stdout",
     "output_type": "stream",
     "text": [
      "Elapsed: 8.180440425872803\n",
      "(514, 514)\n",
      "picture: 143/181\n"
     ]
    },
    {
     "name": "stderr",
     "output_type": "stream",
     "text": [
      "100%|██████████| 200/200 [00:08<00:00, 24.88it/s]\n"
     ]
    },
    {
     "name": "stdout",
     "output_type": "stream",
     "text": [
      "Elapsed: 8.152227401733398\n",
      "(514, 514)\n",
      "picture: 144/181\n"
     ]
    },
    {
     "name": "stderr",
     "output_type": "stream",
     "text": [
      "100%|██████████| 200/200 [00:08<00:00, 24.75it/s]\n"
     ]
    },
    {
     "name": "stdout",
     "output_type": "stream",
     "text": [
      "Elapsed: 8.198180437088013\n",
      "(514, 514)\n",
      "picture: 145/181\n"
     ]
    },
    {
     "name": "stderr",
     "output_type": "stream",
     "text": [
      "100%|██████████| 200/200 [00:08<00:00, 24.86it/s]\n"
     ]
    },
    {
     "name": "stdout",
     "output_type": "stream",
     "text": [
      "Elapsed: 8.161097526550293\n",
      "(514, 514)\n",
      "picture: 146/181\n"
     ]
    },
    {
     "name": "stderr",
     "output_type": "stream",
     "text": [
      "100%|██████████| 200/200 [00:08<00:00, 24.83it/s]\n"
     ]
    },
    {
     "name": "stdout",
     "output_type": "stream",
     "text": [
      "Elapsed: 8.169295310974121\n",
      "(514, 514)\n",
      "picture: 147/181\n"
     ]
    },
    {
     "name": "stderr",
     "output_type": "stream",
     "text": [
      "100%|██████████| 200/200 [00:08<00:00, 24.91it/s]\n"
     ]
    },
    {
     "name": "stdout",
     "output_type": "stream",
     "text": [
      "Elapsed: 8.145572900772095\n",
      "(514, 514)\n",
      "picture: 148/181\n"
     ]
    },
    {
     "name": "stderr",
     "output_type": "stream",
     "text": [
      "100%|██████████| 200/200 [00:08<00:00, 24.76it/s]\n"
     ]
    },
    {
     "name": "stdout",
     "output_type": "stream",
     "text": [
      "Elapsed: 8.19332766532898\n",
      "(514, 514)\n",
      "picture: 149/181\n"
     ]
    },
    {
     "name": "stderr",
     "output_type": "stream",
     "text": [
      "100%|██████████| 200/200 [00:08<00:00, 24.92it/s]\n"
     ]
    },
    {
     "name": "stdout",
     "output_type": "stream",
     "text": [
      "Elapsed: 8.140948057174683\n",
      "(514, 514)\n",
      "picture: 150/181\n"
     ]
    },
    {
     "name": "stderr",
     "output_type": "stream",
     "text": [
      "100%|██████████| 200/200 [00:08<00:00, 24.83it/s]\n"
     ]
    },
    {
     "name": "stdout",
     "output_type": "stream",
     "text": [
      "Elapsed: 8.171831369400024\n",
      "(514, 514)\n",
      "picture: 151/181\n"
     ]
    },
    {
     "name": "stderr",
     "output_type": "stream",
     "text": [
      "100%|██████████| 200/200 [00:08<00:00, 24.81it/s]\n"
     ]
    },
    {
     "name": "stdout",
     "output_type": "stream",
     "text": [
      "Elapsed: 8.177582025527954\n",
      "(514, 514)\n",
      "picture: 152/181\n"
     ]
    },
    {
     "name": "stderr",
     "output_type": "stream",
     "text": [
      "100%|██████████| 200/200 [00:08<00:00, 24.74it/s]\n"
     ]
    },
    {
     "name": "stdout",
     "output_type": "stream",
     "text": [
      "Elapsed: 8.20013165473938\n",
      "(514, 514)\n",
      "picture: 153/181\n"
     ]
    },
    {
     "name": "stderr",
     "output_type": "stream",
     "text": [
      "100%|██████████| 200/200 [00:08<00:00, 24.88it/s]\n"
     ]
    },
    {
     "name": "stdout",
     "output_type": "stream",
     "text": [
      "Elapsed: 8.157433271408081\n",
      "(514, 514)\n",
      "picture: 154/181\n"
     ]
    },
    {
     "name": "stderr",
     "output_type": "stream",
     "text": [
      "100%|██████████| 200/200 [00:08<00:00, 24.76it/s]\n"
     ]
    },
    {
     "name": "stdout",
     "output_type": "stream",
     "text": [
      "Elapsed: 8.190305233001709\n",
      "(514, 514)\n",
      "picture: 155/181\n"
     ]
    },
    {
     "name": "stderr",
     "output_type": "stream",
     "text": [
      "100%|██████████| 200/200 [00:08<00:00, 24.91it/s]\n"
     ]
    },
    {
     "name": "stdout",
     "output_type": "stream",
     "text": [
      "Elapsed: 8.14389419555664\n",
      "(514, 514)\n",
      "picture: 156/181\n"
     ]
    },
    {
     "name": "stderr",
     "output_type": "stream",
     "text": [
      "100%|██████████| 200/200 [00:08<00:00, 24.74it/s]\n"
     ]
    },
    {
     "name": "stdout",
     "output_type": "stream",
     "text": [
      "Elapsed: 8.198729991912842\n",
      "(514, 514)\n",
      "picture: 157/181\n"
     ]
    },
    {
     "name": "stderr",
     "output_type": "stream",
     "text": [
      "100%|██████████| 200/200 [00:08<00:00, 24.89it/s]\n"
     ]
    },
    {
     "name": "stdout",
     "output_type": "stream",
     "text": [
      "Elapsed: 8.151606798171997\n",
      "(514, 514)\n",
      "picture: 158/181\n"
     ]
    },
    {
     "name": "stderr",
     "output_type": "stream",
     "text": [
      "100%|██████████| 200/200 [00:08<00:00, 24.83it/s]\n"
     ]
    },
    {
     "name": "stdout",
     "output_type": "stream",
     "text": [
      "Elapsed: 8.16919732093811\n",
      "(514, 514)\n",
      "picture: 159/181\n"
     ]
    },
    {
     "name": "stderr",
     "output_type": "stream",
     "text": [
      "100%|██████████| 200/200 [00:08<00:00, 24.81it/s]\n"
     ]
    },
    {
     "name": "stdout",
     "output_type": "stream",
     "text": [
      "Elapsed: 8.176068782806396\n",
      "(514, 514)\n",
      "picture: 160/181\n"
     ]
    },
    {
     "name": "stderr",
     "output_type": "stream",
     "text": [
      "100%|██████████| 200/200 [00:08<00:00, 24.78it/s]\n"
     ]
    },
    {
     "name": "stdout",
     "output_type": "stream",
     "text": [
      "Elapsed: 8.184485912322998\n",
      "(514, 514)\n",
      "picture: 161/181\n"
     ]
    },
    {
     "name": "stderr",
     "output_type": "stream",
     "text": [
      "100%|██████████| 200/200 [00:08<00:00, 24.80it/s]\n"
     ]
    },
    {
     "name": "stdout",
     "output_type": "stream",
     "text": [
      "Elapsed: 8.180819749832153\n",
      "(514, 514)\n",
      "picture: 162/181\n"
     ]
    },
    {
     "name": "stderr",
     "output_type": "stream",
     "text": [
      "100%|██████████| 200/200 [00:08<00:00, 24.82it/s]\n"
     ]
    },
    {
     "name": "stdout",
     "output_type": "stream",
     "text": [
      "Elapsed: 8.172020196914673\n",
      "(514, 514)\n",
      "picture: 163/181\n"
     ]
    },
    {
     "name": "stderr",
     "output_type": "stream",
     "text": [
      "100%|██████████| 200/200 [00:08<00:00, 24.79it/s]\n"
     ]
    },
    {
     "name": "stdout",
     "output_type": "stream",
     "text": [
      "Elapsed: 8.182236909866333\n",
      "(514, 514)\n",
      "picture: 164/181\n"
     ]
    },
    {
     "name": "stderr",
     "output_type": "stream",
     "text": [
      "100%|██████████| 200/200 [00:08<00:00, 24.82it/s]\n"
     ]
    },
    {
     "name": "stdout",
     "output_type": "stream",
     "text": [
      "Elapsed: 8.174195289611816\n",
      "(514, 514)\n",
      "picture: 165/181\n"
     ]
    },
    {
     "name": "stderr",
     "output_type": "stream",
     "text": [
      "100%|██████████| 200/200 [00:08<00:00, 24.79it/s]\n"
     ]
    },
    {
     "name": "stdout",
     "output_type": "stream",
     "text": [
      "Elapsed: 8.183029174804688\n",
      "(514, 514)\n",
      "picture: 166/181\n"
     ]
    },
    {
     "name": "stderr",
     "output_type": "stream",
     "text": [
      "100%|██████████| 200/200 [00:08<00:00, 24.76it/s]\n"
     ]
    },
    {
     "name": "stdout",
     "output_type": "stream",
     "text": [
      "Elapsed: 8.193781614303589\n",
      "(514, 514)\n",
      "picture: 167/181\n"
     ]
    },
    {
     "name": "stderr",
     "output_type": "stream",
     "text": [
      "100%|██████████| 200/200 [00:08<00:00, 24.88it/s]\n"
     ]
    },
    {
     "name": "stdout",
     "output_type": "stream",
     "text": [
      "Elapsed: 8.1539626121521\n",
      "(514, 514)\n",
      "picture: 168/181\n"
     ]
    },
    {
     "name": "stderr",
     "output_type": "stream",
     "text": [
      "100%|██████████| 200/200 [00:08<00:00, 24.87it/s]\n"
     ]
    },
    {
     "name": "stdout",
     "output_type": "stream",
     "text": [
      "Elapsed: 8.157307624816895\n",
      "(514, 514)\n",
      "picture: 169/181\n"
     ]
    },
    {
     "name": "stderr",
     "output_type": "stream",
     "text": [
      "100%|██████████| 200/200 [00:08<00:00, 24.85it/s]\n"
     ]
    },
    {
     "name": "stdout",
     "output_type": "stream",
     "text": [
      "Elapsed: 8.162887573242188\n",
      "(514, 514)\n",
      "picture: 170/181\n"
     ]
    },
    {
     "name": "stderr",
     "output_type": "stream",
     "text": [
      "100%|██████████| 200/200 [00:08<00:00, 24.83it/s]\n"
     ]
    },
    {
     "name": "stdout",
     "output_type": "stream",
     "text": [
      "Elapsed: 8.170081615447998\n",
      "(514, 514)\n",
      "picture: 171/181\n"
     ]
    },
    {
     "name": "stderr",
     "output_type": "stream",
     "text": [
      "100%|██████████| 200/200 [00:08<00:00, 24.81it/s]\n"
     ]
    },
    {
     "name": "stdout",
     "output_type": "stream",
     "text": [
      "Elapsed: 8.176665782928467\n",
      "(514, 514)\n",
      "picture: 172/181\n"
     ]
    },
    {
     "name": "stderr",
     "output_type": "stream",
     "text": [
      "100%|██████████| 200/200 [00:08<00:00, 24.83it/s]\n"
     ]
    },
    {
     "name": "stdout",
     "output_type": "stream",
     "text": [
      "Elapsed: 8.169497966766357\n",
      "(514, 514)\n",
      "picture: 173/181\n"
     ]
    },
    {
     "name": "stderr",
     "output_type": "stream",
     "text": [
      "100%|██████████| 200/200 [00:08<00:00, 24.91it/s]\n"
     ]
    },
    {
     "name": "stdout",
     "output_type": "stream",
     "text": [
      "Elapsed: 8.143493890762329\n",
      "(514, 514)\n",
      "picture: 174/181\n"
     ]
    },
    {
     "name": "stderr",
     "output_type": "stream",
     "text": [
      "100%|██████████| 200/200 [00:08<00:00, 24.81it/s]\n"
     ]
    },
    {
     "name": "stdout",
     "output_type": "stream",
     "text": [
      "Elapsed: 8.175511360168457\n",
      "(514, 514)\n",
      "picture: 175/181\n"
     ]
    },
    {
     "name": "stderr",
     "output_type": "stream",
     "text": [
      "100%|██████████| 200/200 [00:08<00:00, 24.82it/s]\n"
     ]
    },
    {
     "name": "stdout",
     "output_type": "stream",
     "text": [
      "Elapsed: 8.173949718475342\n",
      "(514, 514)\n",
      "picture: 176/181\n"
     ]
    },
    {
     "name": "stderr",
     "output_type": "stream",
     "text": [
      "100%|██████████| 200/200 [00:08<00:00, 24.83it/s]\n"
     ]
    },
    {
     "name": "stdout",
     "output_type": "stream",
     "text": [
      "Elapsed: 8.170484066009521\n",
      "(514, 514)\n",
      "picture: 177/181\n"
     ]
    },
    {
     "name": "stderr",
     "output_type": "stream",
     "text": [
      "100%|██████████| 200/200 [00:08<00:00, 24.91it/s]\n"
     ]
    },
    {
     "name": "stdout",
     "output_type": "stream",
     "text": [
      "Elapsed: 8.143309116363525\n",
      "(514, 514)\n",
      "picture: 178/181\n"
     ]
    },
    {
     "name": "stderr",
     "output_type": "stream",
     "text": [
      "100%|██████████| 200/200 [00:08<00:00, 24.84it/s]\n"
     ]
    },
    {
     "name": "stdout",
     "output_type": "stream",
     "text": [
      "Elapsed: 8.167759418487549\n",
      "(514, 514)\n",
      "picture: 179/181\n"
     ]
    },
    {
     "name": "stderr",
     "output_type": "stream",
     "text": [
      "100%|██████████| 200/200 [00:08<00:00, 24.78it/s]\n"
     ]
    },
    {
     "name": "stdout",
     "output_type": "stream",
     "text": [
      "Elapsed: 8.184618711471558\n",
      "(514, 514)\n",
      "picture: 180/181\n"
     ]
    },
    {
     "name": "stderr",
     "output_type": "stream",
     "text": [
      "100%|██████████| 200/200 [00:08<00:00, 24.82it/s]\n"
     ]
    },
    {
     "name": "stdout",
     "output_type": "stream",
     "text": [
      "Elapsed: 8.176226377487183\n",
      "(514, 514)\n",
      "picture: 181/181\n"
     ]
    },
    {
     "name": "stderr",
     "output_type": "stream",
     "text": [
      "100%|██████████| 200/200 [00:08<00:00, 24.79it/s]"
     ]
    },
    {
     "name": "stdout",
     "output_type": "stream",
     "text": [
      "Elapsed: 8.184449672698975\n",
      "Total_time: 1480.3338038921356\n"
     ]
    },
    {
     "name": "stderr",
     "output_type": "stream",
     "text": [
      "\n"
     ]
    }
   ],
   "source": [
    "all_object = []\n",
    "all_rfactors = []\n",
    "total_time = 0\n",
    "\n",
    "#画像の枚数ループ\n",
    "\n",
    "for i in range(num_pictures):\n",
    "    #画像1枚分の再構成を行う\n",
    "\n",
    "    #画像1枚用の変数の準備\n",
    "    object_1 = object[i,0,:,:]\n",
    "    probe_1 = probe[i,0,:,:]\n",
    "    Xsize_1 = Xsize[i,0] \n",
    "    Ysize_1 = Ysize[i,0] \n",
    "    xList_1 = xList[i,:,:] \n",
    "    yList_1 = yList[i,:,:] \n",
    "    CDIstack_1 = cp.fft.fftshift(CDIstack[i,:,:,:,:], axes=(2,3))\n",
    "\n",
    "    Xa = math.floor(prbArraySizeX / 2) - math.floor(Xsize_1 / 2) # 457/2 -457/2\n",
    "    Xb = Xa + Xsize_1 # 0+457\n",
    "    Ya = math.floor(prbArraySizeY / 2) - math.floor(Ysize_1 / 2)\n",
    "    Yb = Ya + Ysize_1\n",
    "\n",
    "    rfactors = []\n",
    "\n",
    "    start = time.time()\n",
    "\n",
    "    with cp.cuda.Stream(non_blocking=True) as stream:     \n",
    "        #2次元fftの計算 probe×objectのfft probe[0-457] object[457,457]\n",
    "        DELTAwave_org = cp.fft.fft2(probe_1[Xa:Xb, Ya:Yb] * object_1[:Xsize_1, :Ysize_1], norm=\"ortho\")\n",
    "\n",
    "        stream.begin_capture()\n",
    "\n",
    "        nominator = cp.array(0.0)\n",
    "        denominator = cp.array(0.0)\n",
    "        probe_org = probe_1.copy()\n",
    "        object_org = object_1.copy()\n",
    "        \n",
    "        for j in range(xscanSize * yscanSize): #11*11\n",
    "            Xn, Yn = divmod(j, xscanSize)      \n",
    "            X1 = int(xList_1[Yn, Xn] / resolutionX) + math.floor(objArraySizeX / 2) - math.floor(Xsize_1 / 2)\n",
    "            X2 = X1 + Xsize_1\n",
    "            Y1 = int(yList_1[Yn, Xn] / resolutionY) + math.floor(objArraySizeY / 2) - math.floor(Ysize_1 / 2)\n",
    "            Y2 = Y1 + Ysize_1\n",
    "\n",
    "            INwave = probe_1[Xa:Xb, Ya:Yb]\n",
    "            S_object = object_1[X1:X2, Y1:Y2]\n",
    "\n",
    "            # Forward propagation 順伝播\n",
    "            RangePush(\"Forward propagation\")\n",
    "            OUTwave = INwave * S_object\n",
    "            DELTAwave = cp.fft.fft2(OUTwave, norm=\"ortho\")\n",
    "            RangePop()\n",
    "\n",
    "            # R-factor\n",
    "            RangePush(\"R-factor\")\n",
    "            OUTWave_org = probe_org[Xa:Xb, Ya:Yb] * object_org[X1:X2, Y1:Y2]\n",
    "            DELTAwave_org = cp.fft.fft2(OUTWave_org, norm=\"ortho\")\n",
    "            nominator += cp.sum(rfactor_nom(CDIstack_1[Yn, Xn, Xa:Xb, Ya:Yb], DELTAwave_org))\n",
    "            denominator += cp.sum(rfactor_denom(CDIstack_1[Yn, Xn, Xa:Xb, Ya:Yb]))\n",
    "            RangePop()\n",
    "            \n",
    "            # Inverse-space constraint 逆空間拘束\n",
    "            RangePush(\"Inverse-space constraint\")\n",
    "            inv_space_constraint(DELTAwave, CDIstack_1[Yn, Xn, Xa:Xb, Ya:Yb])\n",
    "            RangePop()\n",
    "\n",
    "            # Backward propagation 逆伝播\n",
    "            RangePush(\"Backward propagation\")\n",
    "            DELTAwave = cp.fft.ifft2(DELTAwave, norm=\"ortho\") - OUTwave\n",
    "            S_object_old = S_object.copy()\n",
    "            update(S_object, alpha, INwave, maxabs2(INwave), DELTAwave)\n",
    "            # 制約条件 \n",
    "            S_object = cp.abs(S_object) * cp.exp(cp.where(S_object > math.pi, math.pi, S_object))\n",
    "\n",
    "\n",
    "            update(INwave, beta, S_object_old, maxabs2(S_object_old), DELTAwave)\n",
    "            RangePop()\n",
    "\n",
    "        graph = stream.end_capture()\n",
    "\n",
    "        print(\"picture: \"+str(i+1)+\"/\"+str(num_pictures))\n",
    "        for _ in tqdm(range(200)):\n",
    "            graph.launch(stream)\n",
    "            stream.synchronize()\n",
    "            rfactors.append((nominator / denominator).item())\n",
    "\n",
    "        end = time.time()\n",
    "\n",
    "    all_object.append(object_1)\n",
    "    all_rfactors.append(rfactors)\n",
    "    Elapsed = end - start\n",
    "    total_time = total_time + Elapsed\n",
    "\n",
    "    print(\"Elapsed:\", end - start)\n",
    "print(\"Total_time:\",total_time)\n"
   ]
  },
  {
   "cell_type": "code",
   "execution_count": 16,
   "metadata": {},
   "outputs": [
    {
     "data": {
      "text/plain": [
       "<matplotlib.colorbar.Colorbar at 0x7fa0b6391700>"
      ]
     },
     "execution_count": 16,
     "metadata": {},
     "output_type": "execute_result"
    },
    {
     "data": {
      "image/png": "[encoded data removed]",
      "text/plain": [
       "<Figure size 432x288 with 2 Axes>"
      ]
     },
     "metadata": {
      "needs_background": "light"
     },
     "output_type": "display_data"
    }
   ],
   "source": [
    "\n",
    "plt.imshow(cp.asnumpy(cp.angle(all_object[0][:][:])))\n",
    "plt.colorbar()\n",
    "#print(\"Elapsed:\", end - start)\n"
   ]
  },
  {
   "cell_type": "code",
   "execution_count": 17,
   "metadata": {},
   "outputs": [
    {
     "data": {
      "image/png": "[encoded data removed]",
      "text/plain": [
       "<Figure size 432x288 with 1 Axes>"
      ]
     },
     "metadata": {
      "needs_background": "light"
     },
     "output_type": "display_data"
    }
   ],
   "source": [
    "plt.plot(all_rfactors[0][:])\n",
    "plt.xlabel(\"iteration\")\n",
    "plt.ylabel(\"R-factor\");"
   ]
  },
  {
   "cell_type": "code",
   "execution_count": 4,
   "metadata": {},
   "outputs": [],
   "source": [
    "#データの一時保存\n",
    "\n",
    "import pickle\n",
    "#f = open('all_rfactors.bin', 'wb')\n",
    "#pickle.dump(all_rfactors, f)\n",
    "#f.close()\n",
    "\n",
    "#f = open('all_object.bin', 'wb')\n",
    "#pickle.dump(all_object, f)\n",
    "#f.close()"
   ]
  },
  {
   "cell_type": "code",
   "execution_count": 24,
   "metadata": {},
   "outputs": [],
   "source": [
    "#保存データ読み込み\n",
    "\n",
    "f = open(\"all_rfactors_v3.bin\",\"rb\")\n",
    "all_rfactors = pickle.load(f)\n",
    "f.close()\n",
    "\n",
    "f = open(\"all_object_v3.bin\",\"rb\")\n",
    "all_object = pickle.load(f)\n",
    "f.close()"
   ]
  },
  {
   "cell_type": "code",
   "execution_count": 32,
   "metadata": {},
   "outputs": [
    {
     "name": "stdout",
     "output_type": "stream",
     "text": [
      "(181, 629, 629)\n"
     ]
    }
   ],
   "source": [
    "object_T = object.transpose()\n",
    "object_mat = object_T[:,:,np.newaxis,:]\n",
    "\n",
    "new_angle = []\n",
    "for i in range (len(angle)):\n",
    "    new_angle.append(int(angle[i]))\n",
    "\n",
    "#object = 181枚画像のnp配列\n",
    "arr_2d_list = [cp.array(matrix.get()) for matrix in all_object]\n",
    "object =cp.array(arr_2d_list)\n",
    "print(object.shape)"
   ]
  },
  {
   "cell_type": "code",
   "execution_count": 26,
   "metadata": {},
   "outputs": [],
   "source": [
    "import scipy.io\n",
    "Dictionary = {\n",
    "  'object' : object_mat,\n",
    "  'angle': new_angle\n",
    "}\n",
    "Filename = 'object_v3.mat'\n",
    "scipy.io.savemat(Filename, Dictionary)"
   ]
  },
  {
   "cell_type": "code",
   "execution_count": 41,
   "metadata": {},
   "outputs": [
    {
     "name": "stderr",
     "output_type": "stream",
     "text": [
      "100%|██████████| 629/629 [03:08<00:00,  3.33it/s]\n"
     ]
    }
   ],
   "source": [
    "#FBP法を実行\n",
    "#from scipy import ndimage\n",
    "from cupyx.scipy import ndimage\n",
    "\n",
    "Xsize = object.shape[2]\n",
    "Ysize = object.shape[1]\n",
    "Asize = object.shape[0]\n",
    "ZPsize = 2024\n",
    "ZPsize = max(Xsize, ZPsize)\n",
    "\n",
    "reconst=cp.zeros([Ysize, Xsize, Xsize], dtype=np.complex128)\n",
    "\n",
    "\n",
    "for Yn in tqdm(range(Ysize)):\n",
    "\n",
    "    phimyu_g = -cp.log(object[:,:,Yn])\n",
    "    phimyu_re = phimyu_g.real\n",
    "    phimyu_im = phimyu_g.imag\n",
    "\n",
    "    FT_phimyu_re = cp.fft.fftshift(cp.fft.fft(phimyu_re, n=ZPsize, axis=1))\n",
    "    FT_phimyu_im = cp.fft.fftshift(cp.fft.fft(phimyu_im, n=ZPsize, axis=1))\n",
    "\n",
    "    qx = cp.reshape(((cp.arange(1,ZPsize+1)-cp.floor(ZPsize/2))*cp.pi/ZPsize),[1, ZPsize])\n",
    "\n",
    "    FT_phimyu_re = FT_phimyu_re*cp.abs(qx)\n",
    "    FT_phimyu_im = FT_phimyu_im*cp.abs(qx)\n",
    "\n",
    "    phimyu_re = cp.real(cp.fft.ifft(cp.fft.ifftshift(FT_phimyu_re), n=ZPsize, axis=1))\n",
    "    phimyu_im = cp.real(cp.fft.ifft(cp.fft.ifftshift(FT_phimyu_im), n=ZPsize, axis=1))\n",
    "\n",
    "    reconst_g = cp.zeros((Xsize, Xsize))\n",
    "\n",
    "    for An in range(Asize):\n",
    "        re_slice = phimyu_re[An, 0:Xsize]\n",
    "        im_slice = phimyu_im[An, 0:Xsize]\n",
    "        phimyu_complex = re_slice + 1j*im_slice\n",
    "\n",
    "        phimyu_repmat = cp.tile(phimyu_complex, (Xsize,1))\n",
    "\n",
    "        bprj = phimyu_repmat\n",
    "\n",
    "        bprj_real=bprj.real\n",
    "        bprj_imag=bprj.imag\n",
    "\n",
    "        bprj_real_imrotate=ndimage.rotate(bprj_real, -new_angle[An], reshape=False)\n",
    "        bprj_imag_imrotate=ndimage.rotate(bprj_imag, -new_angle[An], reshape=False)\n",
    "        bprj_imrotate=bprj_real_imrotate + 1j*bprj_imag_imrotate\n",
    "\n",
    "        reconst_g = reconst_g +bprj_imrotate\n",
    "\n",
    "    \n",
    "\n",
    "    reconst_g=reconst_g/Asize\n",
    "    reconst[:,:,Yn] = reconst_g\n"
   ]
  },
  {
   "cell_type": "code",
   "execution_count": 126,
   "metadata": {},
   "outputs": [],
   "source": [
    "#得られた3次元再構成画像を保存\n",
    "#MATLAB Volume Viewerで読み込むことで可視化\n",
    "\n",
    "import pickle\n",
    "f = open('reconst.bin', 'wb')\n",
    "pickle.dump(reconst, f)\n",
    "f.close()"
   ]
  },
  {
   "cell_type": "code",
   "execution_count": 44,
   "metadata": {},
   "outputs": [
    {
     "data": {
      "text/plain": [
       "<matplotlib.colorbar.Colorbar at 0x7f0c36132190>"
      ]
     },
     "execution_count": 44,
     "metadata": {},
     "output_type": "execute_result"
    },
    {
     "data": {
      "image/png": "[encoded data removed]",
      "text/plain": [
       "<Figure size 432x288 with 2 Axes>"
      ]
     },
     "metadata": {
      "needs_background": "light"
     },
     "output_type": "display_data"
    }
   ],
   "source": [
    "reconst_cp = cp.asarray(reconst)\n",
    "plt.imshow(cp.asnumpy(cp.real(reconst_cp[:][:][300])))\n",
    "plt.colorbar()"
   ]
  },
  {
   "cell_type": "code",
   "execution_count": null,
   "metadata": {},
   "outputs": [],
   "source": [
    "\n"
   ]
  }
 ],
 "metadata": {
  "kernelspec": {
   "display_name": "base",
   "language": "python",
   "name": "python3"
  },
  "language_info": {
   "codemirror_mode": {
    "name": "ipython",
    "version": 3
   },
   "file_extension": ".py",
   "mimetype": "text/x-python",
   "name": "python",
   "nbconvert_exporter": "python",
   "pygments_lexer": "ipython3",
   "version": "3.8.8"
  }
 },
 "nbformat": 4,
 "nbformat_minor": 2
}
