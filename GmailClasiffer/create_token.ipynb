{
 "cells": [
  {
   "cell_type": "code",
   "execution_count": null,
   "id": "6b0b33a6",
   "metadata": {},
   "outputs": [],
   "source": [
    "from google_auth_oauthlib.flow import InstalledAppFlow\n",
    "from google.oauth2.credentials import Credentials\n",
    "\n",
    "SCOPES = [\n",
    "    \"https://www.googleapis.com/auth/gmail.modify\",\n",
    "    \"https://www.googleapis.com/auth/gmail.compose\",\n",
    "    \"https://www.googleapis.com/auth/gmail.send\",\n",
    "    \"https://www.googleapis.com/auth/gmail.readonly\",\n",
    "]\n",
    "\n",
    "flow = InstalledAppFlow.from_client_secrets_file(\"client_secret.json\", SCOPES)\n",
    "creds = flow.run_local_server(port=0, prompt=\"consent\", access_type=\"offline\")  #ローカル実行\n",
    "with open(\"token.json\", \"w\") as f:\n",
    "    f.write(creds.to_json())\n",
    "print(\"token.json written. Make sure it contains a 'refresh_token'.\")"
   ]
  },
  {
   "cell_type": "code",
   "execution_count": null,
   "id": "bd003396",
   "metadata": {},
   "outputs": [],
   "source": [
    "!pip install --upgrade google-auth google-auth-oauthlib google-api-python-client"
   ]
  }
 ],
 "metadata": {
  "kernelspec": {
   "display_name": "Python 3",
   "language": "python",
   "name": "python3"
  },
  "language_info": {
   "codemirror_mode": {
    "name": "ipython",
    "version": 3
   },
   "file_extension": ".py",
   "mimetype": "text/x-python",
   "name": "python",
   "nbconvert_exporter": "python",
   "pygments_lexer": "ipython3",
   "version": "3.13.6"
  }
 },
 "nbformat": 4,
 "nbformat_minor": 5
}
